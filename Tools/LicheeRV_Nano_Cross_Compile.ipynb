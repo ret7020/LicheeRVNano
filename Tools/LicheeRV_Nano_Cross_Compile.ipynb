{
  "nbformat": 4,
  "nbformat_minor": 0,
  "metadata": {
    "colab": {
      "provenance": []
    },
    "kernelspec": {
      "name": "python3",
      "display_name": "Python 3"
    },
    "language_info": {
      "name": "python"
    }
  },
  "cells": [
    {
      "cell_type": "markdown",
      "source": [
        "## Настройка окружения"
      ],
      "metadata": {
        "id": "IPM2hVNf18_m"
      }
    },
    {
      "cell_type": "code",
      "execution_count": null,
      "metadata": {
        "id": "PbAg8g1N1OU4"
      },
      "outputs": [],
      "source": [
        "!git clone https://github.com/ret7020/LicheeRVNano # репозиторий с примерами"
      ]
    },
    {
      "cell_type": "code",
      "source": [
        "!wget https://sophon-file.sophon.cn/sophon-prod-s3/drive/23/03/07/16/host-tools.tar.gz # набор кросс-компиляторов"
      ],
      "metadata": {
        "id": "EGVY7g0I1UlH"
      },
      "execution_count": null,
      "outputs": []
    },
    {
      "cell_type": "code",
      "source": [
        "!tar xvf host-tools.tar.gz"
      ],
      "metadata": {
        "id": "8mDmDlXm1cND"
      },
      "execution_count": null,
      "outputs": []
    },
    {
      "cell_type": "code",
      "source": [
        "# Patch cross-compiler ioctl\n",
        "!sed -i '9s/^/\\/\\//' /content/host-tools/gcc/riscv64-linux-musl-x86_64/sysroot/usr/include/sys/ioctl.h"
      ],
      "metadata": {
        "id": "BkFWtA_4ByyJ"
      },
      "execution_count": null,
      "outputs": []
    },
    {
      "cell_type": "code",
      "source": [
        "!gdown 1cp7E3I2t7Tj-ljuCz68jh6kW2QPu-sLa"
      ],
      "metadata": {
        "id": "PaZb0Mh-2uJa"
      },
      "execution_count": null,
      "outputs": []
    },
    {
      "cell_type": "code",
      "source": [
        "!tar xvf cvitek_tdl_sdk_1228.tar.gz"
      ],
      "metadata": {
        "id": "GkmjcUyaQUAD"
      },
      "execution_count": null,
      "outputs": []
    },
    {
      "cell_type": "code",
      "source": [
        "import os\n",
        "\n",
        "os.environ[\"COMPILER\"] = \"/content/host-tools/gcc/riscv64-linux-musl-x86_64/bin\"\n",
        "os.environ[\"SDK_PATH\"] = \"/content/\""
      ],
      "metadata": {
        "id": "oBNtvBpS130K"
      },
      "execution_count": null,
      "outputs": []
    },
    {
      "cell_type": "markdown",
      "source": [
        "## Пример сборки"
      ],
      "metadata": {
        "id": "qOECUTMi18Lf"
      }
    },
    {
      "cell_type": "markdown",
      "source": [
        "### Hello World\n"
      ],
      "metadata": {
        "id": "zGME0AxR24zk"
      }
    },
    {
      "cell_type": "code",
      "source": [
        "%cd /content/LicheeRVNano/Projects/HelloWorld\n",
        "!make\n",
        "%cd /content"
      ],
      "metadata": {
        "id": "sJDHv52u27Ab"
      },
      "execution_count": null,
      "outputs": []
    },
    {
      "cell_type": "markdown",
      "source": [
        "### Yolov8"
      ],
      "metadata": {
        "id": "FScWvK_23Pp9"
      }
    },
    {
      "cell_type": "code",
      "source": [
        "%cd /content/LicheeRVNano/Projects/Yolov8\n",
        "!mkdir build && cd build && cmake .. && make"
      ],
      "metadata": {
        "id": "Tpy5g29otmfB"
      },
      "execution_count": null,
      "outputs": []
    }
  ]
}