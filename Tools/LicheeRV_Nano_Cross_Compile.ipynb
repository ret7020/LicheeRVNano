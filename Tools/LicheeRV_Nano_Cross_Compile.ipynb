{
  "nbformat": 4,
  "nbformat_minor": 0,
  "metadata": {
    "colab": {
      "provenance": []
    },
    "kernelspec": {
      "name": "python3",
      "display_name": "Python 3"
    },
    "language_info": {
      "name": "python"
    }
  },
  "cells": [
    {
      "cell_type": "markdown",
      "source": [
        "## Настройка окружения"
      ],
      "metadata": {
        "id": "IPM2hVNf18_m"
      }
    },
    {
      "cell_type": "code",
      "execution_count": null,
      "metadata": {
        "id": "PbAg8g1N1OU4"
      },
      "outputs": [],
      "source": [
        "!git clone https://github.com/ret7020/LicheeRVNano"
      ]
    },
    {
      "cell_type": "code",
      "source": [
        "!wget https://sophon-file.sophon.cn/sophon-prod-s3/drive/23/03/07/16/host-tools.tar.gz"
      ],
      "metadata": {
        "id": "EGVY7g0I1UlH"
      },
      "execution_count": null,
      "outputs": []
    },
    {
      "cell_type": "code",
      "source": [
        "!tar xvf host-tools.tar.gz"
      ],
      "metadata": {
        "id": "8mDmDlXm1cND"
      },
      "execution_count": null,
      "outputs": []
    },
    {
      "cell_type": "code",
      "source": [
        "!git clone https://github.com/milkv-duo/cvitek-tdl-sdk-sg200x"
      ],
      "metadata": {
        "id": "PaZb0Mh-2uJa"
      },
      "execution_count": null,
      "outputs": []
    },
    {
      "cell_type": "code",
      "source": [
        "import os\n",
        "\n",
        "os.environ[\"COMPILER\"] = \"/content/host-tools/gcc/riscv64-linux-musl-x86_64/bin\"\n",
        "os.environ[\"SDK_PATH\"] = \"/content/cvitek-tdl-sdk-sg200x\""
      ],
      "metadata": {
        "id": "oBNtvBpS130K"
      },
      "execution_count": 5,
      "outputs": []
    },
    {
      "cell_type": "markdown",
      "source": [
        "## Пример сборки"
      ],
      "metadata": {
        "id": "qOECUTMi18Lf"
      }
    },
    {
      "cell_type": "markdown",
      "source": [
        "### Hello World\n"
      ],
      "metadata": {
        "id": "zGME0AxR24zk"
      }
    },
    {
      "cell_type": "code",
      "source": [
        "%cd /content/LicheeRVNano/Projects/HelloWorld\n",
        "!make\n",
        "%cd /content"
      ],
      "metadata": {
        "id": "sJDHv52u27Ab"
      },
      "execution_count": null,
      "outputs": []
    },
    {
      "cell_type": "markdown",
      "source": [
        "### Yolov8"
      ],
      "metadata": {
        "id": "FScWvK_23Pp9"
      }
    }
  ]
}