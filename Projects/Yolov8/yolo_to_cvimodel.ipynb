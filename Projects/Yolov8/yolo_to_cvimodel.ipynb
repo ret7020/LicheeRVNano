{
  "cells": [
    {
      "cell_type": "markdown",
      "metadata": {
        "id": "RwUlHaa2MkLC"
      },
      "source": [
        "## Get MLIR files"
      ]
    },
    {
      "cell_type": "code",
      "execution_count": 57,
      "metadata": {
        "id": "S_bWRpBAwsCU"
      },
      "outputs": [],
      "source": [
        "!cp /content/drive/MyDrive/LicheeRV_Nano_Resources/tpu-mlir_v1.9.beta.0-110-gfdb73ce31-20240719.tar.gz tpu-mlir.tar.gz"
      ]
    },
    {
      "cell_type": "code",
      "execution_count": 66,
      "metadata": {
        "id": "V62bY4GCwpEk"
      },
      "outputs": [],
      "source": [
        "!mkdir tpu_mlir\n",
        "!tar -xzf tpu-mlir.tar.gz -C tpu_mlir --strip-components=1\n",
        "!mv ./tpu_mlir/$(ls ./tpu_mlir) ./tpu_mlir/source"
      ]
    },
    {
      "cell_type": "code",
      "execution_count": null,
      "metadata": {
        "id": "pKtuH7gLyTcr"
      },
      "outputs": [],
      "source": [
        "!wget https://github.com/sophgo/tpu-mlir/releases/download/v1.14/tpu_mlir-1.14-py3-none-any.whl"
      ]
    },
    {
      "cell_type": "markdown",
      "metadata": {
        "id": "baEkpHogMqGw"
      },
      "source": [
        "## Install python3.10 and tpu_mlir"
      ]
    },
    {
      "cell_type": "code",
      "execution_count": null,
      "metadata": {
        "id": "tuC3L9ugy2F4"
      },
      "outputs": [],
      "source": [
        "!sudo add-apt-repository ppa:deadsnakes/ppa -y"
      ]
    },
    {
      "cell_type": "code",
      "execution_count": null,
      "metadata": {
        "id": "kGa_HjMay9Wp"
      },
      "outputs": [],
      "source": [
        "!sudo apt update\n",
        "!sudo apt install python3.10"
      ]
    },
    {
      "cell_type": "code",
      "execution_count": null,
      "metadata": {
        "id": "khKNoXFMzQFi"
      },
      "outputs": [],
      "source": [
        "!wget https://bootstrap.pypa.io/get-pip.py\n",
        "!python3.10 get-pip.py"
      ]
    },
    {
      "cell_type": "code",
      "execution_count": null,
      "metadata": {
        "id": "Op2YHCdRyKTn"
      },
      "outputs": [],
      "source": [
        "!python3.10 -m pip install tpu_mlir-1.14-py3-none-any.whl\n",
        "!python3.10 -m pip install flatbuffers\n",
        "!python3.10 -m pip install ultralytics\n",
        "!python3.10 -m pip install onnxsim"
      ]
    },
    {
      "cell_type": "markdown",
      "metadata": {
        "id": "SRQjaVIt1yLX"
      },
      "source": [
        "## Yolo export to ONNX"
      ]
    },
    {
      "cell_type": "code",
      "execution_count": null,
      "metadata": {
        "id": "FdgZE69m1xdy"
      },
      "outputs": [],
      "source": [
        "!wget https://raw.githubusercontent.com/ret7020/LicheeRVNano/refs/heads/master/Projects/Yolov8/export_to_onnx.py"
      ]
    },
    {
      "cell_type": "code",
      "execution_count": null,
      "metadata": {
        "id": "_u9ewSkQNNOR"
      },
      "outputs": [],
      "source": [
        "# COCO weights for yolov8n.pt\n",
        "!wget https://github.com/ultralytics/assets/releases/download/v0.0.0/yolov8n.pt"
      ]
    },
    {
      "cell_type": "code",
      "execution_count": null,
      "metadata": {
        "id": "LtPH7xfyNEPZ"
      },
      "outputs": [],
      "source": [
        "!python3.10 export_to_onnx.py yolov8n.pt 640 640"
      ]
    },
    {
      "cell_type": "markdown",
      "metadata": {
        "id": "PjFuHbrENE4L"
      },
      "source": [
        "## Convert to MLIR"
      ]
    },
    {
      "cell_type": "code",
      "execution_count": null,
      "metadata": {
        "id": "hpeWXkynNxPQ"
      },
      "outputs": [],
      "source": [
        "# Image for tests\n",
        "!wget https://raw.githubusercontent.com/ret7020/YoloBenchmarks/refs/heads/master/assets/images/bus.jpg"
      ]
    },
    {
      "cell_type": "code",
      "execution_count": 80,
      "metadata": {
        "colab": {
          "base_uri": "https://localhost:8080/"
        },
        "id": "p-5nmCItN5AF",
        "outputId": "63535fb3-e6e8-47d1-e36f-8d9054125dd7"
      },
      "outputs": [
        {
          "name": "stdout",
          "output_type": "stream",
          "text": [
            "/content/work\n"
          ]
        }
      ],
      "source": [
        "!mkdir work\n",
        "%cd work"
      ]
    },
    {
      "cell_type": "code",
      "execution_count": 110,
      "metadata": {
        "id": "X2on1bfPPbrM"
      },
      "outputs": [],
      "source": [
        "import os\n",
        "\n",
        "# Set model input image size\n",
        "os.environ['IMG_SIZE_W'] = \"640\"\n",
        "os.environ['IMG_SIZE_H'] = \"640\"\n",
        "\n",
        "# Path to dataset for calibration matrix\n",
        "os.environ['CALIBRATION_DATASET_PATH'] = \"/content/tpu_mlir/source/regression/dataset/COCO2017\"\n",
        "os.environ['CALIBRATION_IMAGES_COUNT'] = \"100\"\n",
        "os.environ['MODEL_NAME'] = \"yolov8n\""
      ]
    },
    {
      "cell_type": "code",
      "execution_count": null,
      "metadata": {
        "id": "y0PHjDwyxb49"
      },
      "outputs": [],
      "source": [
        "!export PYTHONPATH=/usr/bin/python3.10\n",
        "!source ../tpu_mlir/source/envsetup.sh\n",
        "!model_transform.py --model_name $MODEL_NAME --model_def ../$MODEL_NAME.onnx --input_shapes [[1,3,$IMG_SIZE_W,$IMG_SIZE_H]] --mean 0.0,0.0,0.0 --scale 0.0039216,0.0039216,0.0039216 --keep_aspect_ratio --pixel_format rgb --test_input $TEST_IMG --test_result \"${MODEL_NAME}_top_outputs.npz\" --mlir $MODEL_NAME.mlir"
      ]
    },
    {
      "cell_type": "code",
      "execution_count": null,
      "metadata": {
        "id": "FyiVemCUyJzn"
      },
      "outputs": [],
      "source": [
        "!source ../tpu_mlir/source/envsetup.sh\n",
        "!echo \"${MODEL_NAME}_cali_table\"\n",
        "!run_calibration.py $MODEL_NAME.mlir \\\n",
        "--dataset $CALIBRATION_DATASET_PATH \\\n",
        "--input_num $CALIBRATION_IMAGES_COUNT \\\n",
        "-o \"${MODEL_NAME}_cali_table\""
      ]
    },
    {
      "cell_type": "code",
      "execution_count": null,
      "metadata": {
        "id": "roa7brbQTZOo"
      },
      "outputs": [],
      "source": [
        "!mkdir result\n",
        "!source ../tpu_mlir/source/envsetup.sh\n",
        "!model_deploy.py \\\n",
        "--mlir $MODEL_NAME.mlir \\\n",
        "--quant_input \\\n",
        "--quant_output \\\n",
        "--quantize int8 \\\n",
        "--calibration_table \"${MODEL_NAME}_cali_table\" \\\n",
        "--processor cv181x \\\n",
        "--test_input \"${MODEL_NAME}_in_f32.npz\" \\\n",
        "--test_reference \"${MODEL_NAME}_top_outputs.npz\" \\\n",
        "--tolerance 0.85,0.45 \\\n",
        "--model \"./result/${MODEL_NAME}_int8_2_class.cvimodel\""
      ]
    }
  ],
  "metadata": {
    "colab": {
      "provenance": []
    },
    "kernelspec": {
      "display_name": "Python 3",
      "name": "python3"
    },
    "language_info": {
      "name": "python"
    }
  },
  "nbformat": 4,
  "nbformat_minor": 0
}
