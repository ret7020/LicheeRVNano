{
  "cells": [
    {
      "cell_type": "markdown",
      "source": [
        "## Get MLIR files"
      ],
      "metadata": {
        "id": "RwUlHaa2MkLC"
      }
    },
    {
      "cell_type": "code",
      "source": [
        "!cp /content/drive/MyDrive/LicheeRV_Nano_Resources/tpu-mlir_v1.9.beta.0-110-gfdb73ce31-20240719.tar.gz tpu-mlir.tar.gz"
      ],
      "metadata": {
        "id": "S_bWRpBAwsCU"
      },
      "execution_count": 57,
      "outputs": []
    },
    {
      "cell_type": "code",
      "source": [
        "!mkdir tpu_mlir\n",
        "!tar -xzf tpu-mlir.tar.gz -C tpu_mlir --strip-components=1\n",
        "!mv ./tpu_mlir/$(ls ./tpu_mlir) ./tpu_mlir/source"
      ],
      "metadata": {
        "id": "V62bY4GCwpEk"
      },
      "execution_count": 66,
      "outputs": []
    },
    {
      "cell_type": "code",
      "source": [
        "!wget https://github.com/sophgo/tpu-mlir/releases/download/v1.14/tpu_mlir-1.14-py3-none-any.whl"
      ],
      "metadata": {
        "id": "pKtuH7gLyTcr"
      },
      "execution_count": null,
      "outputs": []
    },
    {
      "cell_type": "markdown",
      "source": [
        "## Install python3.10 and tpu_mlir"
      ],
      "metadata": {
        "id": "baEkpHogMqGw"
      }
    },
    {
      "cell_type": "code",
      "source": [
        "!sudo add-apt-repository ppa:deadsnakes/ppa -y"
      ],
      "metadata": {
        "id": "tuC3L9ugy2F4"
      },
      "execution_count": null,
      "outputs": []
    },
    {
      "cell_type": "code",
      "source": [
        "!sudo apt update\n",
        "!sudo apt install python3.10"
      ],
      "metadata": {
        "id": "kGa_HjMay9Wp"
      },
      "execution_count": null,
      "outputs": []
    },
    {
      "cell_type": "code",
      "source": [
        "!wget https://bootstrap.pypa.io/get-pip.py\n",
        "!python3.10 get-pip.py"
      ],
      "metadata": {
        "id": "khKNoXFMzQFi"
      },
      "execution_count": null,
      "outputs": []
    },
    {
      "cell_type": "code",
      "source": [
        "!python3.10 -m pip install tpu_mlir-1.14-py3-none-any.whl\n",
        "!python3.10 -m pip install flatbuffers\n",
        "!python3.10 -m pip install ultralytics\n",
        "!python3.10 -m pip install onnxsim"
      ],
      "metadata": {
        "id": "Op2YHCdRyKTn"
      },
      "execution_count": null,
      "outputs": []
    },
    {
      "cell_type": "markdown",
      "source": [
        "## Yolo export to ONNX"
      ],
      "metadata": {
        "id": "SRQjaVIt1yLX"
      }
    },
    {
      "cell_type": "code",
      "source": [
        "!wget https://raw.githubusercontent.com/ret7020/LicheeRVNano/refs/heads/master/Projects/Yolov8/export_to_onnx.py"
      ],
      "metadata": {
        "id": "FdgZE69m1xdy"
      },
      "execution_count": null,
      "outputs": []
    },
    {
      "cell_type": "code",
      "source": [
        "# COCO weights for yolov8n.pt\n",
        "!wget https://github.com/ultralytics/assets/releases/download/v0.0.0/yolov8n.pt"
      ],
      "metadata": {
        "id": "_u9ewSkQNNOR"
      },
      "execution_count": null,
      "outputs": []
    },
    {
      "cell_type": "code",
      "source": [
        "!python3.10 export_to_onnx.py yolov8n.pt"
      ],
      "metadata": {
        "id": "LtPH7xfyNEPZ"
      },
      "execution_count": null,
      "outputs": []
    },
    {
      "cell_type": "markdown",
      "source": [
        "## Convert to MLIR"
      ],
      "metadata": {
        "id": "PjFuHbrENE4L"
      }
    },
    {
      "cell_type": "code",
      "source": [
        "# Image for tests\n",
        "!wget https://raw.githubusercontent.com/ret7020/YoloBenchmarks/refs/heads/master/assets/images/bus.jpg"
      ],
      "metadata": {
        "id": "hpeWXkynNxPQ"
      },
      "execution_count": null,
      "outputs": []
    },
    {
      "cell_type": "code",
      "source": [
        "!mkdir work\n",
        "%cd work"
      ],
      "metadata": {
        "colab": {
          "base_uri": "https://localhost:8080/"
        },
        "id": "p-5nmCItN5AF",
        "outputId": "63535fb3-e6e8-47d1-e36f-8d9054125dd7"
      },
      "execution_count": 80,
      "outputs": [
        {
          "output_type": "stream",
          "name": "stdout",
          "text": [
            "/content/work\n"
          ]
        }
      ]
    },
    {
      "cell_type": "code",
      "source": [
        "import os\n",
        "\n",
        "# Set model input image size\n",
        "os.environ['IMG_SIZE_W'] = \"640\"\n",
        "os.environ['IMG_SIZE_H'] = \"640\"\n",
        "\n",
        "# Path to dataset for calibration matrix\n",
        "os.environ['CALIBRATION_DATASET_PATH'] = \"/content/tpu_mlir/source/regression/dataset/COCO2017\"\n",
        "os.environ['CALIBRATION_IMAGES_COUNT'] = \"100\""
      ],
      "metadata": {
        "id": "X2on1bfPPbrM"
      },
      "execution_count": 110,
      "outputs": []
    },
    {
      "cell_type": "code",
      "source": [
        "!export PYTHONPATH=/usr/bin/python3.10\n",
        "!source ../tpu_mlir/source/envsetup.sh\n",
        "!model_transform.py --model_name yolov8n --model_def ../yolov8n.onnx --input_shapes [[1,3,$IMG_SIZE_W,$IMG_SIZE_H]] --mean 0.0,0.0,0.0 --scale 0.0039216,0.0039216,0.0039216 --keep_aspect_ratio --pixel_format rgb --test_input ../bus.jpg --test_result yolov8n_top_outputs.npz --mlir yolov8n.mlir"
      ],
      "metadata": {
        "id": "y0PHjDwyxb49"
      },
      "execution_count": null,
      "outputs": []
    },
    {
      "cell_type": "code",
      "source": [
        "!source ../tpu_mlir/source/envsetup.sh\n",
        "!run_calibration.py yolov8n.mlir \\\n",
        "--dataset $CALIBRATION_DATASET_PATH \\\n",
        "--input_num $CALIBRATION_IMAGES_COUNT \\\n",
        "-o yolov8n_cali_table"
      ],
      "metadata": {
        "id": "FyiVemCUyJzn"
      },
      "execution_count": null,
      "outputs": []
    },
    {
      "cell_type": "code",
      "source": [
        "!mkdir result\n",
        "!source ../tpu_mlir/source/envsetup.sh\n",
        "!model_deploy.py \\\n",
        "--mlir yolov8n.mlir \\\n",
        "--quant_input \\\n",
        "--quant_output \\\n",
        "--quantize INT8 \\\n",
        "--calibration_table yolov8n_cali_table \\\n",
        "--processor cv181x \\\n",
        "--test_input yolov8n_in_f32.npz \\\n",
        "--test_reference yolov8n_top_outputs.npz \\\n",
        "--tolerance 0.85,0.45 \\\n",
        "--model ./result/yolov8n_cv181x_int8_sym.cvimodel"
      ],
      "metadata": {
        "id": "roa7brbQTZOo"
      },
      "execution_count": null,
      "outputs": []
    }
  ],
  "metadata": {
    "colab": {
      "provenance": []
    },
    "kernelspec": {
      "display_name": "Python 3",
      "name": "python3"
    },
    "language_info": {
      "name": "python"
    }
  },
  "nbformat": 4,
  "nbformat_minor": 0
}