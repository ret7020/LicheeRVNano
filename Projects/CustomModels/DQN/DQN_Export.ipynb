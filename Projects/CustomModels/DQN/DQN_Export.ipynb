{
  "cells": [
    {
      "cell_type": "markdown",
      "metadata": {
        "id": "pLtGyd7ZA4DZ"
      },
      "source": [
        "Setup env"
      ]
    },
    {
      "cell_type": "code",
      "execution_count": 1,
      "metadata": {
        "colab": {
          "base_uri": "https://localhost:8080/"
        },
        "id": "KMOksGbHAnG6",
        "outputId": "3d2ebd51-2857-4d0d-aa8a-b96717adb003"
      },
      "outputs": [
        {
          "name": "stdout",
          "output_type": "stream",
          "text": [
            "Mounted at /content/drive\n"
          ]
        }
      ],
      "source": [
        "from google.colab import drive\n",
        "drive.mount('/content/drive')"
      ]
    },
    {
      "cell_type": "code",
      "execution_count": null,
      "metadata": {
        "colab": {
          "base_uri": "https://localhost:8080/"
        },
        "id": "m0sXwXqmAqiR",
        "outputId": "d60865c5-ed9b-48fc-bb9d-72836f5a2458"
      },
      "outputs": [],
      "source": [
        "!cp /content/drive/MyDrive/LicheeRV_Nano_Resources/tpu-mlir_v1.9.beta.0-110-gfdb73ce31-20240719.tar.gz tpu-mlir.tar.gz\n",
        "!mkdir tpu_mlir\n",
        "!tar -xzf tpu-mlir.tar.gz -C tpu_mlir --strip-components=1\n",
        "!mv ./tpu_mlir/$(ls ./tpu_mlir) ./tpu_mlir/source\n",
        "!wget https://github.com/sophgo/tpu-mlir/releases/download/v1.14/tpu_mlir-1.14-py3-none-any.whl\n",
        "!sudo add-apt-repository ppa:deadsnakes/ppa -y\n",
        "!sudo apt update\n",
        "!sudo apt install python3.10\n",
        "!wget https://bootstrap.pypa.io/get-pip.py\n",
        "!python3.10 get-pip.py\n",
        "!python3.10 -m pip install tpu_mlir-1.14-py3-none-any.whl\n",
        "!python3.10 -m pip install flatbuffers\n",
        "!python3.10 -m pip install ultralytics\n",
        "!python3.10 -m pip install onnxsim\n",
        "!mkdir work\n",
        "%cd work"
      ]
    },
    {
      "cell_type": "code",
      "execution_count": null,
      "metadata": {
        "colab": {
          "base_uri": "https://localhost:8080/"
        },
        "id": "u-HRZu8pCeJF",
        "outputId": "c2775ba7-b3f3-4df8-fd6e-d97595d4358f"
      },
      "outputs": [],
      "source": [
        "!python3.10 -m pip install onnxscript onnxruntime\n",
        "!python3 -m pip install onnxscript onnxruntime"
      ]
    },
    {
      "cell_type": "code",
      "execution_count": 5,
      "metadata": {
        "id": "o2uRrrmABELo"
      },
      "outputs": [],
      "source": [
        "import torch\n",
        "import torch.nn as nn\n",
        "import torch.nn.functional as F\n",
        "\n",
        "\n",
        "# DQN arch\n",
        "class DQN(nn.Module):\n",
        "\n",
        "    def __init__(self, n_observations, n_actions):\n",
        "        super(DQN, self).__init__()\n",
        "        self.layer1 = nn.Linear(n_observations, 128)\n",
        "        self.layer2 = nn.Linear(128, 128)\n",
        "        self.layer3 = nn.Linear(128, n_actions)\n",
        "\n",
        "    def forward(self, x):\n",
        "        x = F.relu(self.layer1(x))\n",
        "        x = F.relu(self.layer2(x))\n",
        "        return self.layer3(x)\n"
      ]
    },
    {
      "cell_type": "code",
      "execution_count": null,
      "metadata": {
        "colab": {
          "base_uri": "https://localhost:8080/"
        },
        "id": "ImmceXf3B49f",
        "outputId": "28908c99-de3b-4764-c2ce-90979cded270"
      },
      "outputs": [],
      "source": [
        "test_array = [-0.03209978, -0.0461358 , -0.01805152,  0.03391415]\n",
        "\n",
        "policy_net = DQN(4, 2) # 4 - input size observation); 2 - output size (model actions)\n",
        "policy_net.load_state_dict(torch.load(\"/content/trained.pth\", map_location=torch.device('cpu')))\n",
        "policy_net.eval()\n",
        "\n",
        "# Test model on some data\n",
        "print(policy_net(torch.tensor(test_array))) # Test\n",
        "\n",
        "onnx_program = torch.onnx.dynamo_export(policy_net, torch.randn(1, 4))\n",
        "onnx_program.save(\"/content/dqn.onnx\")"
      ]
    },
    {
      "cell_type": "code",
      "execution_count": 9,
      "metadata": {
        "id": "a8EL70ZxBpHo"
      },
      "outputs": [],
      "source": [
        "import os\n",
        "\n",
        "os.environ['MODEL_NAME'] = \"dqn\""
      ]
    },
    {
      "cell_type": "code",
      "execution_count": 30,
      "metadata": {
        "id": "qC6duUNgDMQZ"
      },
      "outputs": [],
      "source": [
        "import numpy as np\n",
        "\n",
        "# Create test input, that can be used to verify model's output on each step\n",
        "with open(\"/content/test_input.npy\", \"wb\") as fd:\n",
        "  np.save(fd, np.array([test_array], dtype=np.float64))\n",
        "\n",
        "np.savez(\"/content/test_input.npz\", **{\"arr_2d\": np.array([test_array], dtype=np.float32)})"
      ]
    },
    {
      "cell_type": "code",
      "execution_count": null,
      "metadata": {
        "colab": {
          "base_uri": "https://localhost:8080/"
        },
        "id": "IYQD7IJqJDLm",
        "outputId": "21277deb-af2d-493b-9075-70dbfcddc440"
      },
      "outputs": [],
      "source": [
        "%cd /content\n",
        "!rm -rf work\n",
        "!mkdir work\n",
        "%cd work"
      ]
    },
    {
      "cell_type": "code",
      "execution_count": null,
      "metadata": {
        "colab": {
          "base_uri": "https://localhost:8080/"
        },
        "id": "wZ2I7wrTBrPT",
        "outputId": "ae4d7fb1-f39d-4671-b1ad-a8322e8c5315"
      },
      "outputs": [],
      "source": [
        "!export PYTHONPATH=/usr/bin/python3.10\n",
        "!source ../tpu_mlir/source/envsetup.sh\n",
        "!echo $MODEL_NAME\n",
        "!model_transform.py --model_name $MODEL_NAME --model_def ../$MODEL_NAME.onnx --input_shapes \"[[1, 4]]\" --mean 0.0,0.0,0.0,0.0 --scale 1,1,1,1 --mlir $MODEL_NAME.mlir --test_input /content/test_input.npy --test_result /content/mlir_res.npz"
      ]
    },
    {
      "cell_type": "code",
      "execution_count": 48,
      "metadata": {
        "colab": {
          "base_uri": "https://localhost:8080/"
        },
        "id": "u6f82_4TEi5y",
        "outputId": "9534a086-947f-4751-88c9-e08f9b2cd6f2"
      },
      "outputs": [
        {
          "name": "stdout",
          "output_type": "stream",
          "text": [
            "[[96.12512 95.90169]]\n"
          ]
        }
      ],
      "source": [
        "out = np.load(\"/content/mlir_res.npz\", allow_pickle=True)\n",
        "print(out[\"layer3_1_Gemm\"])"
      ]
    },
    {
      "cell_type": "code",
      "execution_count": null,
      "metadata": {
        "colab": {
          "base_uri": "https://localhost:8080/"
        },
        "id": "y_HN3OnCFDCT",
        "outputId": "6336b9f6-64e6-446d-da3e-706027aa192b"
      },
      "outputs": [],
      "source": [
        "!export PYTHONPATH=/usr/bin/python3.10\n",
        "!source ../tpu_mlir/source/envsetup.sh\n",
        "\n",
        "!model_deploy \\\n",
        "--mlir $MODEL_NAME.mlir \\\n",
        "--quant_input \\\n",
        "--test_input /content/test_input.npz \\\n",
        "--quantize bf16 \\\n",
        "--processor cv181x \\\n",
        "--tolerance 0.99,0.99 \\\n",
        "--model dqn.cvimodel"
      ]
    },
    {
      "cell_type": "code",
      "execution_count": null,
      "metadata": {
        "colab": {
          "base_uri": "https://localhost:8080/"
        },
        "id": "NVXV8zWpKXgU",
        "outputId": "089b784f-666a-4e57-d1f3-f9002c0f3741"
      },
      "outputs": [],
      "source": [
        "!model_runner.py --input /content/test_input.npz --model dqn.cvimodel --output dqn_cv181x_bf16_model_outputs.npz"
      ]
    },
    {
      "cell_type": "code",
      "execution_count": 60,
      "metadata": {
        "colab": {
          "base_uri": "https://localhost:8080/"
        },
        "id": "qyy9BQCpKiDM",
        "outputId": "b0584d3d-543d-4e23-f0a6-44c716074c0a"
      },
      "outputs": [
        {
          "data": {
            "text/plain": [
              "array([[[[96.]],\n",
              "\n",
              "        [[96.]]]], dtype=float32)"
            ]
          },
          "execution_count": 60,
          "metadata": {},
          "output_type": "execute_result"
        }
      ],
      "source": [
        "np.load(\"dqn_cv181x_bf16_model_outputs.npz\")[\"layer3_1_Gemm_f32\"]"
      ]
    }
  ],
  "metadata": {
    "colab": {
      "provenance": []
    },
    "kernelspec": {
      "display_name": "Python 3",
      "name": "python3"
    },
    "language_info": {
      "name": "python"
    }
  },
  "nbformat": 4,
  "nbformat_minor": 0
}
